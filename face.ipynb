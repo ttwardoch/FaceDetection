{
 "cells": [
  {
   "cell_type": "code",
   "execution_count": 7,
   "id": "463b64e7-1433-4e24-865a-5282d58612f6",
   "metadata": {},
   "outputs": [],
   "source": [
    "import torch\n",
    "from torch import nn\n",
    "from torch.utils.data import Dataset\n",
    "\n",
    "import torchvision\n",
    "import torchvision.transforms.v2 as transforms\n",
    "\n",
    "import matplotlib.pyplot as plt\n",
    "import matplotlib.patches as patches\n",
    "import numpy as np\n",
    "from PIL import Image\n",
    "import pandas as pd\n",
    "\n",
    "from data_model import CelebADataset, ToTensorWithBBox, ResizeWithBBox, NormaliseWithBBox, RandomHorizontalFlipWithBBox, RandomPadWithBBox"
   ]
  },
  {
   "cell_type": "code",
   "execution_count": 8,
   "id": "3365fa87-752f-4cf9-b1ea-de96382ac32a",
   "metadata": {},
   "outputs": [],
   "source": [
    "transform = transforms.Compose([\n",
    "    RandomPadWithBBox((0, 20)),\n",
    "    ResizeWithBBox((224, 224)),\n",
    "    RandomHorizontalFlipWithBBox(0.5),\n",
    "    ToTensorWithBBox(),\n",
    "    #NormaliseWithBBox(0.4436, 0.3090)\n",
    "])\n",
    "dataset_bbox = CelebADataset(image_dir=\"./data_bbox/celeba/img_align_celeba/\",\n",
    "                             bbox_file=\"./data_bbox/celeba/list_bbox_celeba.txt\",\n",
    "                             sizes_file=\"./data_bbox/celeba/list_sizes_celeba.txt\",\n",
    "                             transform=transform)"
   ]
  },
  {
   "cell_type": "code",
   "execution_count": null,
   "id": "1bcb2655-10fc-4fbb-9077-c67abbafe409",
   "metadata": {},
   "outputs": [],
   "source": [
    "# Create a 3x3 grid for plotting\n",
    "fig, axes = plt.subplots(4, 4, figsize=(12, 12))\n",
    "\n",
    "for i, ax in enumerate(axes.flatten()):\n",
    "    img, bbox = dataset_bbox[i+1312]\n",
    "    bbox = bbox.tolist()\n",
    "\n",
    "    # Convert tensor to numpy image for plotting\n",
    "    img_np = img.permute(1, 2, 0).numpy()\n",
    "\n",
    "    # Display the image\n",
    "    ax.imshow(img_np)\n",
    "\n",
    "    # Draw bounding box\n",
    "    x, y, w, h = bbox\n",
    "    rect = patches.Rectangle((x, y), w, h, linewidth=1, edgecolor='red', facecolor='none')\n",
    "    ax.add_patch(rect)\n",
    "\n",
    "    ax.axis('off')  # Hide axes\n",
    "\n",
    "plt.tight_layout()\n",
    "plt.show()"
   ]
  },
  {
   "cell_type": "code",
   "execution_count": null,
   "id": "881375ae-5218-4ad4-9e86-5fbafca0ebfc",
   "metadata": {},
   "outputs": [],
   "source": []
  }
 ],
 "metadata": {
  "kernelspec": {
   "display_name": "Python 3 (ipykernel)",
   "language": "python",
   "name": "python3"
  },
  "language_info": {
   "codemirror_mode": {
    "name": "ipython",
    "version": 3
   },
   "file_extension": ".py",
   "mimetype": "text/x-python",
   "name": "python",
   "nbconvert_exporter": "python",
   "pygments_lexer": "ipython3",
   "version": "3.11.4"
  }
 },
 "nbformat": 4,
 "nbformat_minor": 5
}
